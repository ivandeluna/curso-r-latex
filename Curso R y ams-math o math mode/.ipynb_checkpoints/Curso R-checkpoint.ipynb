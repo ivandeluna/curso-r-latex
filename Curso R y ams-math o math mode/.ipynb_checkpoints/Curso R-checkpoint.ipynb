{
 "cells": [
  {
   "cell_type": "markdown",
   "metadata": {},
   "source": [
    "# Curso de R"
   ]
  },
  {
   "cell_type": "markdown",
   "metadata": {},
   "source": [
    "\n",
    "Este curso esta diseñado para que de manera introductoria quien lo lea entienda R y todo su potencial.\n",
    "\n",
    "R es un lenguaje de programación y ambiente de desarrollo para estadísticas y gráficos.\n",
    "\n",
    "La manera en como funciona es a través del **desarrollo colaborativo**, por lo cual se maneja mucho en \"paquetes\" o **librerías**.\n",
    "\n",
    "Cada librería es desarrollada por conocedores del tema o personas interesadas en desarrollar herramientas para uso personal y público, que deciden compartir sus avances.\n",
    "\n",
    "A raíz de esto, R suele ser complicado de entender ya que no todo está disponible a simple vista como otro software (SPSS, STATA, Minitab).\n",
    "\n",
    "Adicionalmente, R necesita que el usuario sepa de **manejo de datos** o tenga una noción de ello, ya que hace mucho uso (y es una de sus fortalezas) de data frames.\n",
    "\n"
   ]
  },
  {
   "cell_type": "markdown",
   "metadata": {},
   "source": [
    "Existen diversas maneras de conseguir R, una de ellas es a través del portal de CRAN:\n",
    "\n",
    "https://www.r-project.org/\n",
    "\n",
    "Pero se han hecho esfuerzos por hacer más amigable al usuario la plataforma que ofrece R, por lo cual tambíen se cuenta con RStudio:\n",
    "\n",
    "https://www.rstudio.com/products/rstudio/download/#download\n",
    "\n",
    "El cual cuenta con diversas versiónes de las cuales solo una es gratuita.\n",
    "\n",
    "Para este curso, si bien vamos a usar R, se recomienda instalar Anaconda, que es un paquete que incluye diversos software y lenguajes de programación como Python, Jupyter (donde esta hecho este documento), RStudio, entre otros.\n",
    "\n",
    "https://www.anaconda.com/download/\n",
    "\n",
    "Anaconda fue específicamente diseñado para lo que se conoce como **data science** o ciencias de datos, a lo cual le daremos énfasis en este curso.\n"
   ]
  },
  {
   "cell_type": "markdown",
   "metadata": {},
   "source": [
    "# Instalación"
   ]
  },
  {
   "cell_type": "markdown",
   "metadata": {},
   "source": [
    "1. Bajar Anaconda\n",
    "\n",
    "Se baja como cualquier otro software.\n",
    "\n",
    "2. Instalar Anaconda\n",
    "\n",
    "se instala como cualquier otro software siguiendo el tutorial.\n",
    "\n",
    "3. Instalar RStudio\n",
    "\n",
    "Anaconda dentro de su plataforma ofrece la posiblidad de actualizar los paquetes que se usan tanto en R como en Python, así como agregar otras soluciones como RStudio.\n",
    "\n",
    "![Pantalla Inicial de Anaconda Navigator](anaconda-inicio.png)\n",
    "\n",
    "Vienen diferentes Apps de inicio como spyder o jupyter, pero es necesario instalar RStudio, lo cual haremos.\n",
    "\n",
    "![Software instalado y no instalado](anaconda-apps.png)\n",
    "\n"
   ]
  },
  {
   "cell_type": "markdown",
   "metadata": {},
   "source": [
    "# R y RStudio"
   ]
  },
  {
   "cell_type": "markdown",
   "metadata": {},
   "source": [
    "RStudio es un Integrated Development Enviromnet o IDE. Este tipo de software ayuda a que los desarrolladores tengan más a la mano información sobre lo que hacen al ofrecer diversas herramientas en el mismo entorno.\n",
    "![](rstudio-general.png)\n",
    "\n",
    "\n",
    "La parte principal es Console y donde se desarrollan Scripts. Los scripts son archivos con instrucciones que se corren y son interpretados por la maquina, en este caso a través de R y su lenguaje de programación.\n",
    "\n",
    "Los Scripts nos ayudan a organizar algoritmos, archivos, programas, clases, entre otros.\n",
    "![](rstudio-script.png)\n",
    "\n",
    "La consola es la parte central de R y de cualquier otro lenguaje de programación, se pueden mandar instruccines linea por linea, lo cual lo hace más complicado de seguir a lo cual la solución son los scripts.\n",
    "\n",
    "![](rstudio-console.png)\n",
    "\n",
    "Para darle solución al manejo de scripts, variables, funciones, clases y data frames, existe la ventana de Environment:\n",
    "![](rstudio-environment.png)\n",
    "\n",
    "En History se tiene un registro de todo los comandos que ha corrido console, así de todos los mensajes de error y advertencias:\n",
    "![](rstudio-history.png)\n",
    "\n",
    "RStudio ofrece la posiblidad de trabajar en base a proyectos, los cuales implican que se manejen diferentes carpetas, archivos, scripts, etc. Para poder administrarlos de manera más eficiente existe la ventana de Files:\n",
    "![](rstudio-files.png)\n",
    "\n",
    "También dentro de la misma ventana, por default, vienen las pestañas de Plot, Packages, Help y Viewer, los cuales veremos a lo largo del curso."
   ]
  },
  {
   "cell_type": "markdown",
   "metadata": {},
   "source": [
    "# Datos"
   ]
  },
  {
   "cell_type": "markdown",
   "metadata": {},
   "source": [
    "Una de las fortalezas de R es que puede manejar datos de diversas maneras y manipularlos de acuerdo a como los interpreta, así como a organizarlos según su naturaleza.\n"
   ]
  },
  {
   "cell_type": "markdown",
   "metadata": {},
   "source": [
    "## Vectores"
   ]
  },
  {
   "cell_type": "markdown",
   "metadata": {},
   "source": [
    "Los vectores son la unidad más básica de datos, ya sea que sean de $1 x N$ o $N x 1$ o escalar de $1 x 1$, R reconoce los vectores según lo que contengan, ya sea números enteros $N$, números de punto flotante, decimales, caractéres o valores booleanos (TRUE o FALSE)."
   ]
  },
  {
   "cell_type": "code",
   "execution_count": 2,
   "metadata": {},
   "outputs": [
    {
     "data": {
      "text/html": [
       "<ol class=list-inline>\n",
       "\t<li>1</li>\n",
       "\t<li>2</li>\n",
       "\t<li>3</li>\n",
       "\t<li>4</li>\n",
       "\t<li>5</li>\n",
       "</ol>\n"
      ],
      "text/latex": [
       "\\begin{enumerate*}\n",
       "\\item 1\n",
       "\\item 2\n",
       "\\item 3\n",
       "\\item 4\n",
       "\\item 5\n",
       "\\end{enumerate*}\n"
      ],
      "text/markdown": [
       "1. 1\n",
       "2. 2\n",
       "3. 3\n",
       "4. 4\n",
       "5. 5\n",
       "\n",
       "\n"
      ],
      "text/plain": [
       "[1] 1 2 3 4 5"
      ]
     },
     "metadata": {},
     "output_type": "display_data"
    },
    {
     "data": {
      "text/html": [
       "<ol class=list-inline>\n",
       "\t<li>'Ana'</li>\n",
       "\t<li>'Daniel'</li>\n",
       "\t<li>'Victor'</li>\n",
       "\t<li>'Ivan'</li>\n",
       "</ol>\n"
      ],
      "text/latex": [
       "\\begin{enumerate*}\n",
       "\\item 'Ana'\n",
       "\\item 'Daniel'\n",
       "\\item 'Victor'\n",
       "\\item 'Ivan'\n",
       "\\end{enumerate*}\n"
      ],
      "text/markdown": [
       "1. 'Ana'\n",
       "2. 'Daniel'\n",
       "3. 'Victor'\n",
       "4. 'Ivan'\n",
       "\n",
       "\n"
      ],
      "text/plain": [
       "[1] \"Ana\"    \"Daniel\" \"Victor\" \"Ivan\"  "
      ]
     },
     "metadata": {},
     "output_type": "display_data"
    },
    {
     "data": {
      "text/html": [
       "<ol class=list-inline>\n",
       "\t<li>TRUE</li>\n",
       "\t<li>FALSE</li>\n",
       "\t<li>TRUE</li>\n",
       "</ol>\n"
      ],
      "text/latex": [
       "\\begin{enumerate*}\n",
       "\\item TRUE\n",
       "\\item FALSE\n",
       "\\item TRUE\n",
       "\\end{enumerate*}\n"
      ],
      "text/markdown": [
       "1. TRUE\n",
       "2. FALSE\n",
       "3. TRUE\n",
       "\n",
       "\n"
      ],
      "text/plain": [
       "[1]  TRUE FALSE  TRUE"
      ]
     },
     "metadata": {},
     "output_type": "display_data"
    }
   ],
   "source": [
    "a <- c(1,2,3,4,5)\n",
    "b <- c(\"Ana\",\"Daniel\",\"Victor\", \"Ivan\")\n",
    "c <- c(TRUE, FALSE, TRUE)\n",
    "\n",
    "a\n",
    "b\n",
    "c"
   ]
  },
  {
   "cell_type": "markdown",
   "metadata": {},
   "source": [
    "## Matrices"
   ]
  },
  {
   "cell_type": "markdown",
   "metadata": {},
   "source": [
    "Las matrices son vectores de tamaño $M x N$, a diferencia del dataframe, todos los valores dentro de una matríz deben de ser de la misma naturaleza (numero, carácter, booleano, etc)."
   ]
  },
  {
   "cell_type": "code",
   "execution_count": 9,
   "metadata": {},
   "outputs": [
    {
     "data": {
      "text/html": [
       "<table>\n",
       "<tbody>\n",
       "\t<tr><td>1 </td><td>5 </td><td> 9</td><td>13</td><td>17</td></tr>\n",
       "\t<tr><td>2 </td><td>6 </td><td>10</td><td>14</td><td>18</td></tr>\n",
       "\t<tr><td>3 </td><td>7 </td><td>11</td><td>15</td><td>19</td></tr>\n",
       "\t<tr><td>4 </td><td>8 </td><td>12</td><td>16</td><td>20</td></tr>\n",
       "</tbody>\n",
       "</table>\n"
      ],
      "text/latex": [
       "\\begin{tabular}{lllll}\n",
       "\t 1  & 5  &  9 & 13 & 17\\\\\n",
       "\t 2  & 6  & 10 & 14 & 18\\\\\n",
       "\t 3  & 7  & 11 & 15 & 19\\\\\n",
       "\t 4  & 8  & 12 & 16 & 20\\\\\n",
       "\\end{tabular}\n"
      ],
      "text/markdown": [
       "\n",
       "| 1  | 5  |  9 | 13 | 17 | \n",
       "| 2  | 6  | 10 | 14 | 18 | \n",
       "| 3  | 7  | 11 | 15 | 19 | \n",
       "| 4  | 8  | 12 | 16 | 20 | \n",
       "\n",
       "\n"
      ],
      "text/plain": [
       "     [,1] [,2] [,3] [,4] [,5]\n",
       "[1,] 1    5     9   13   17  \n",
       "[2,] 2    6    10   14   18  \n",
       "[3,] 3    7    11   15   19  \n",
       "[4,] 4    8    12   16   20  "
      ]
     },
     "metadata": {},
     "output_type": "display_data"
    }
   ],
   "source": [
    "m1 <- matrix(1:20, nrow = 4, ncol = 5)\n",
    "\n",
    "m1"
   ]
  },
  {
   "cell_type": "markdown",
   "metadata": {},
   "source": [
    "## Arrays"
   ]
  },
  {
   "cell_type": "markdown",
   "metadata": {},
   "source": [
    "Los arrays son similares a las matrices, solo que contienen más dimensiones, como los cubos de $N x M x P$"
   ]
  },
  {
   "cell_type": "markdown",
   "metadata": {},
   "source": [
    "## Data Frames"
   ]
  },
  {
   "cell_type": "markdown",
   "metadata": {},
   "source": [
    "Los data frames son las más usadas dentro de R, ya que ayudan a organizar los datos de diversas maneras, con diferentes valores, así como aplicarles operaciones en conjunto."
   ]
  },
  {
   "cell_type": "code",
   "execution_count": 7,
   "metadata": {},
   "outputs": [
    {
     "data": {
      "text/html": [
       "<table>\n",
       "<thead><tr><th scope=col>id</th><th scope=col>Nombre</th><th scope=col>Puesto</th></tr></thead>\n",
       "<tbody>\n",
       "\t<tr><td>1                            </td><td>Ana                          </td><td>Indicadores Sociodemográficos</td></tr>\n",
       "\t<tr><td>2                            </td><td>Daniel                       </td><td>Indicadores Económicos       </td></tr>\n",
       "\t<tr><td>3                            </td><td>Victor                       </td><td>Programación                 </td></tr>\n",
       "\t<tr><td>4                            </td><td>Iván                         </td><td>Investigación Estratégica    </td></tr>\n",
       "</tbody>\n",
       "</table>\n"
      ],
      "text/latex": [
       "\\begin{tabular}{r|lll}\n",
       " id & Nombre & Puesto\\\\\n",
       "\\hline\n",
       "\t 1                             & Ana                           & Indicadores Sociodemográficos\\\\\n",
       "\t 2                             & Daniel                        & Indicadores Económicos       \\\\\n",
       "\t 3                             & Victor                        & Programación                 \\\\\n",
       "\t 4                             & Iván                          & Investigación Estratégica    \\\\\n",
       "\\end{tabular}\n"
      ],
      "text/markdown": [
       "\n",
       "id | Nombre | Puesto | \n",
       "|---|---|---|---|\n",
       "| 1                             | Ana                           | Indicadores Sociodemográficos | \n",
       "| 2                             | Daniel                        | Indicadores Económicos        | \n",
       "| 3                             | Victor                        | Programación                  | \n",
       "| 4                             | Iván                          | Investigación Estratégica     | \n",
       "\n",
       "\n"
      ],
      "text/plain": [
       "  id Nombre Puesto                       \n",
       "1 1  Ana    Indicadores Sociodemográficos\n",
       "2 2  Daniel Indicadores Económicos       \n",
       "3 3  Victor Programación                 \n",
       "4 4  Iván   Investigación Estratégica    "
      ]
     },
     "metadata": {},
     "output_type": "display_data"
    }
   ],
   "source": [
    "a <- c(1,2,3,4)\n",
    "b <- c(\"Ana\", \"Daniel\",\"Victor\",\"Iván\")\n",
    "c <- c(\"Indicadores Sociodemográficos\",\"Indicadores Económicos\",\"Programación\",\"Investigación Estratégica\")\n",
    "\n",
    "df <- data.frame(a,b,c)\n",
    "names(df) <- c(\"id\",\"Nombre\",\"Puesto\")\n",
    "\n",
    "df"
   ]
  },
  {
   "cell_type": "markdown",
   "metadata": {},
   "source": [
    "## Listas o Lists"
   ]
  },
  {
   "cell_type": "markdown",
   "metadata": {},
   "source": [
    "Las listas son un conjunto ordenado o no ordenado de *cosas*, sin importar que sean o cual sea su naturaleza."
   ]
  },
  {
   "cell_type": "code",
   "execution_count": 10,
   "metadata": {},
   "outputs": [
    {
     "data": {
      "text/plain": [
       "[[1]]\n",
       "[1] 1\n",
       "\n",
       "[[2]]\n",
       "[1] 2\n",
       "\n",
       "[[3]]\n",
       "[1] 3\n",
       "\n",
       "[[4]]\n",
       "[1] 4\n",
       "\n",
       "$id\n",
       "[1] 1 2 3 4\n",
       "\n",
       "$Nombre\n",
       "[1] Ana    Daniel Victor Iván  \n",
       "Levels: Ana Daniel Iván Victor\n",
       "\n",
       "$Puesto\n",
       "[1] Indicadores Sociodemográficos Indicadores Económicos       \n",
       "[3] Programación                  Investigación Estratégica    \n",
       "4 Levels: Indicadores Económicos ... Programación\n",
       "\n",
       "[[8]]\n",
       "[1] 1\n",
       "\n",
       "[[9]]\n",
       "[1] 2\n",
       "\n",
       "[[10]]\n",
       "[1] 3\n",
       "\n",
       "[[11]]\n",
       "[1] 4\n",
       "\n",
       "[[12]]\n",
       "[1] 5\n",
       "\n",
       "[[13]]\n",
       "[1] 6\n",
       "\n",
       "[[14]]\n",
       "[1] 7\n",
       "\n",
       "[[15]]\n",
       "[1] 8\n",
       "\n",
       "[[16]]\n",
       "[1] 9\n",
       "\n",
       "[[17]]\n",
       "[1] 10\n",
       "\n",
       "[[18]]\n",
       "[1] 11\n",
       "\n",
       "[[19]]\n",
       "[1] 12\n",
       "\n",
       "[[20]]\n",
       "[1] 13\n",
       "\n",
       "[[21]]\n",
       "[1] 14\n",
       "\n",
       "[[22]]\n",
       "[1] 15\n",
       "\n",
       "[[23]]\n",
       "[1] 16\n",
       "\n",
       "[[24]]\n",
       "[1] 17\n",
       "\n",
       "[[25]]\n",
       "[1] 18\n",
       "\n",
       "[[26]]\n",
       "[1] 19\n",
       "\n",
       "[[27]]\n",
       "[1] 20\n"
      ]
     },
     "metadata": {},
     "output_type": "display_data"
    }
   ],
   "source": [
    "lista <- c(a, df, m1)\n",
    "\n",
    "lista"
   ]
  },
  {
   "cell_type": "markdown",
   "metadata": {},
   "source": [
    "## Factores"
   ]
  },
  {
   "cell_type": "markdown",
   "metadata": {},
   "source": [
    "Los factores, más que un tipo de dato, es una forma de organizarlos de tal manera que las variables nominales sean interpretadas por R como números o factores.\n",
    "\n",
    "Por ejemplo, al usar género como carácter, el usuarío tendría que considerarlas como tal.\n"
   ]
  },
  {
   "cell_type": "code",
   "execution_count": 12,
   "metadata": {},
   "outputs": [
    {
     "data": {
      "text/html": [
       "<ol class=list-inline>\n",
       "\t<li>'hombre'</li>\n",
       "\t<li>'hombre'</li>\n",
       "\t<li>'hombre'</li>\n",
       "\t<li>'hombre'</li>\n",
       "\t<li>'hombre'</li>\n",
       "\t<li>'hombre'</li>\n",
       "\t<li>'hombre'</li>\n",
       "\t<li>'hombre'</li>\n",
       "\t<li>'hombre'</li>\n",
       "\t<li>'hombre'</li>\n",
       "\t<li>'hombre'</li>\n",
       "\t<li>'hombre'</li>\n",
       "\t<li>'hombre'</li>\n",
       "\t<li>'hombre'</li>\n",
       "\t<li>'hombre'</li>\n",
       "\t<li>'hombre'</li>\n",
       "\t<li>'hombre'</li>\n",
       "\t<li>'hombre'</li>\n",
       "\t<li>'hombre'</li>\n",
       "\t<li>'hombre'</li>\n",
       "\t<li>'mujer'</li>\n",
       "\t<li>'mujer'</li>\n",
       "\t<li>'mujer'</li>\n",
       "\t<li>'mujer'</li>\n",
       "\t<li>'mujer'</li>\n",
       "\t<li>'mujer'</li>\n",
       "\t<li>'mujer'</li>\n",
       "\t<li>'mujer'</li>\n",
       "\t<li>'mujer'</li>\n",
       "\t<li>'mujer'</li>\n",
       "\t<li>'mujer'</li>\n",
       "\t<li>'mujer'</li>\n",
       "\t<li>'mujer'</li>\n",
       "\t<li>'mujer'</li>\n",
       "\t<li>'mujer'</li>\n",
       "\t<li>'mujer'</li>\n",
       "\t<li>'mujer'</li>\n",
       "\t<li>'mujer'</li>\n",
       "\t<li>'mujer'</li>\n",
       "\t<li>'mujer'</li>\n",
       "\t<li>'mujer'</li>\n",
       "\t<li>'mujer'</li>\n",
       "\t<li>'mujer'</li>\n",
       "\t<li>'mujer'</li>\n",
       "\t<li>'mujer'</li>\n",
       "\t<li>'mujer'</li>\n",
       "\t<li>'mujer'</li>\n",
       "\t<li>'mujer'</li>\n",
       "\t<li>'mujer'</li>\n",
       "\t<li>'mujer'</li>\n",
       "</ol>\n"
      ],
      "text/latex": [
       "\\begin{enumerate*}\n",
       "\\item 'hombre'\n",
       "\\item 'hombre'\n",
       "\\item 'hombre'\n",
       "\\item 'hombre'\n",
       "\\item 'hombre'\n",
       "\\item 'hombre'\n",
       "\\item 'hombre'\n",
       "\\item 'hombre'\n",
       "\\item 'hombre'\n",
       "\\item 'hombre'\n",
       "\\item 'hombre'\n",
       "\\item 'hombre'\n",
       "\\item 'hombre'\n",
       "\\item 'hombre'\n",
       "\\item 'hombre'\n",
       "\\item 'hombre'\n",
       "\\item 'hombre'\n",
       "\\item 'hombre'\n",
       "\\item 'hombre'\n",
       "\\item 'hombre'\n",
       "\\item 'mujer'\n",
       "\\item 'mujer'\n",
       "\\item 'mujer'\n",
       "\\item 'mujer'\n",
       "\\item 'mujer'\n",
       "\\item 'mujer'\n",
       "\\item 'mujer'\n",
       "\\item 'mujer'\n",
       "\\item 'mujer'\n",
       "\\item 'mujer'\n",
       "\\item 'mujer'\n",
       "\\item 'mujer'\n",
       "\\item 'mujer'\n",
       "\\item 'mujer'\n",
       "\\item 'mujer'\n",
       "\\item 'mujer'\n",
       "\\item 'mujer'\n",
       "\\item 'mujer'\n",
       "\\item 'mujer'\n",
       "\\item 'mujer'\n",
       "\\item 'mujer'\n",
       "\\item 'mujer'\n",
       "\\item 'mujer'\n",
       "\\item 'mujer'\n",
       "\\item 'mujer'\n",
       "\\item 'mujer'\n",
       "\\item 'mujer'\n",
       "\\item 'mujer'\n",
       "\\item 'mujer'\n",
       "\\item 'mujer'\n",
       "\\end{enumerate*}\n"
      ],
      "text/markdown": [
       "1. 'hombre'\n",
       "2. 'hombre'\n",
       "3. 'hombre'\n",
       "4. 'hombre'\n",
       "5. 'hombre'\n",
       "6. 'hombre'\n",
       "7. 'hombre'\n",
       "8. 'hombre'\n",
       "9. 'hombre'\n",
       "10. 'hombre'\n",
       "11. 'hombre'\n",
       "12. 'hombre'\n",
       "13. 'hombre'\n",
       "14. 'hombre'\n",
       "15. 'hombre'\n",
       "16. 'hombre'\n",
       "17. 'hombre'\n",
       "18. 'hombre'\n",
       "19. 'hombre'\n",
       "20. 'hombre'\n",
       "21. 'mujer'\n",
       "22. 'mujer'\n",
       "23. 'mujer'\n",
       "24. 'mujer'\n",
       "25. 'mujer'\n",
       "26. 'mujer'\n",
       "27. 'mujer'\n",
       "28. 'mujer'\n",
       "29. 'mujer'\n",
       "30. 'mujer'\n",
       "31. 'mujer'\n",
       "32. 'mujer'\n",
       "33. 'mujer'\n",
       "34. 'mujer'\n",
       "35. 'mujer'\n",
       "36. 'mujer'\n",
       "37. 'mujer'\n",
       "38. 'mujer'\n",
       "39. 'mujer'\n",
       "40. 'mujer'\n",
       "41. 'mujer'\n",
       "42. 'mujer'\n",
       "43. 'mujer'\n",
       "44. 'mujer'\n",
       "45. 'mujer'\n",
       "46. 'mujer'\n",
       "47. 'mujer'\n",
       "48. 'mujer'\n",
       "49. 'mujer'\n",
       "50. 'mujer'\n",
       "\n",
       "\n"
      ],
      "text/plain": [
       " [1] \"hombre\" \"hombre\" \"hombre\" \"hombre\" \"hombre\" \"hombre\" \"hombre\" \"hombre\"\n",
       " [9] \"hombre\" \"hombre\" \"hombre\" \"hombre\" \"hombre\" \"hombre\" \"hombre\" \"hombre\"\n",
       "[17] \"hombre\" \"hombre\" \"hombre\" \"hombre\" \"mujer\"  \"mujer\"  \"mujer\"  \"mujer\" \n",
       "[25] \"mujer\"  \"mujer\"  \"mujer\"  \"mujer\"  \"mujer\"  \"mujer\"  \"mujer\"  \"mujer\" \n",
       "[33] \"mujer\"  \"mujer\"  \"mujer\"  \"mujer\"  \"mujer\"  \"mujer\"  \"mujer\"  \"mujer\" \n",
       "[41] \"mujer\"  \"mujer\"  \"mujer\"  \"mujer\"  \"mujer\"  \"mujer\"  \"mujer\"  \"mujer\" \n",
       "[49] \"mujer\"  \"mujer\" "
      ]
     },
     "metadata": {},
     "output_type": "display_data"
    }
   ],
   "source": [
    "gen <- c(rep(\"hombre\",20), rep(\"mujer\", 30)) \n",
    "\n",
    "gen\n",
    "    "
   ]
  },
  {
   "cell_type": "code",
   "execution_count": 13,
   "metadata": {},
   "outputs": [
    {
     "data": {
      "text/html": [
       "<ol class=list-inline>\n",
       "\t<li>hombre</li>\n",
       "\t<li>hombre</li>\n",
       "\t<li>hombre</li>\n",
       "\t<li>hombre</li>\n",
       "\t<li>hombre</li>\n",
       "\t<li>hombre</li>\n",
       "\t<li>hombre</li>\n",
       "\t<li>hombre</li>\n",
       "\t<li>hombre</li>\n",
       "\t<li>hombre</li>\n",
       "\t<li>hombre</li>\n",
       "\t<li>hombre</li>\n",
       "\t<li>hombre</li>\n",
       "\t<li>hombre</li>\n",
       "\t<li>hombre</li>\n",
       "\t<li>hombre</li>\n",
       "\t<li>hombre</li>\n",
       "\t<li>hombre</li>\n",
       "\t<li>hombre</li>\n",
       "\t<li>hombre</li>\n",
       "\t<li>mujer</li>\n",
       "\t<li>mujer</li>\n",
       "\t<li>mujer</li>\n",
       "\t<li>mujer</li>\n",
       "\t<li>mujer</li>\n",
       "\t<li>mujer</li>\n",
       "\t<li>mujer</li>\n",
       "\t<li>mujer</li>\n",
       "\t<li>mujer</li>\n",
       "\t<li>mujer</li>\n",
       "\t<li>mujer</li>\n",
       "\t<li>mujer</li>\n",
       "\t<li>mujer</li>\n",
       "\t<li>mujer</li>\n",
       "\t<li>mujer</li>\n",
       "\t<li>mujer</li>\n",
       "\t<li>mujer</li>\n",
       "\t<li>mujer</li>\n",
       "\t<li>mujer</li>\n",
       "\t<li>mujer</li>\n",
       "\t<li>mujer</li>\n",
       "\t<li>mujer</li>\n",
       "\t<li>mujer</li>\n",
       "\t<li>mujer</li>\n",
       "\t<li>mujer</li>\n",
       "\t<li>mujer</li>\n",
       "\t<li>mujer</li>\n",
       "\t<li>mujer</li>\n",
       "\t<li>mujer</li>\n",
       "\t<li>mujer</li>\n",
       "</ol>\n"
      ],
      "text/latex": [
       "\\begin{enumerate*}\n",
       "\\item hombre\n",
       "\\item hombre\n",
       "\\item hombre\n",
       "\\item hombre\n",
       "\\item hombre\n",
       "\\item hombre\n",
       "\\item hombre\n",
       "\\item hombre\n",
       "\\item hombre\n",
       "\\item hombre\n",
       "\\item hombre\n",
       "\\item hombre\n",
       "\\item hombre\n",
       "\\item hombre\n",
       "\\item hombre\n",
       "\\item hombre\n",
       "\\item hombre\n",
       "\\item hombre\n",
       "\\item hombre\n",
       "\\item hombre\n",
       "\\item mujer\n",
       "\\item mujer\n",
       "\\item mujer\n",
       "\\item mujer\n",
       "\\item mujer\n",
       "\\item mujer\n",
       "\\item mujer\n",
       "\\item mujer\n",
       "\\item mujer\n",
       "\\item mujer\n",
       "\\item mujer\n",
       "\\item mujer\n",
       "\\item mujer\n",
       "\\item mujer\n",
       "\\item mujer\n",
       "\\item mujer\n",
       "\\item mujer\n",
       "\\item mujer\n",
       "\\item mujer\n",
       "\\item mujer\n",
       "\\item mujer\n",
       "\\item mujer\n",
       "\\item mujer\n",
       "\\item mujer\n",
       "\\item mujer\n",
       "\\item mujer\n",
       "\\item mujer\n",
       "\\item mujer\n",
       "\\item mujer\n",
       "\\item mujer\n",
       "\\end{enumerate*}\n"
      ],
      "text/markdown": [
       "1. hombre\n",
       "2. hombre\n",
       "3. hombre\n",
       "4. hombre\n",
       "5. hombre\n",
       "6. hombre\n",
       "7. hombre\n",
       "8. hombre\n",
       "9. hombre\n",
       "10. hombre\n",
       "11. hombre\n",
       "12. hombre\n",
       "13. hombre\n",
       "14. hombre\n",
       "15. hombre\n",
       "16. hombre\n",
       "17. hombre\n",
       "18. hombre\n",
       "19. hombre\n",
       "20. hombre\n",
       "21. mujer\n",
       "22. mujer\n",
       "23. mujer\n",
       "24. mujer\n",
       "25. mujer\n",
       "26. mujer\n",
       "27. mujer\n",
       "28. mujer\n",
       "29. mujer\n",
       "30. mujer\n",
       "31. mujer\n",
       "32. mujer\n",
       "33. mujer\n",
       "34. mujer\n",
       "35. mujer\n",
       "36. mujer\n",
       "37. mujer\n",
       "38. mujer\n",
       "39. mujer\n",
       "40. mujer\n",
       "41. mujer\n",
       "42. mujer\n",
       "43. mujer\n",
       "44. mujer\n",
       "45. mujer\n",
       "46. mujer\n",
       "47. mujer\n",
       "48. mujer\n",
       "49. mujer\n",
       "50. mujer\n",
       "\n",
       "\n"
      ],
      "text/plain": [
       " [1] hombre hombre hombre hombre hombre hombre hombre hombre hombre hombre\n",
       "[11] hombre hombre hombre hombre hombre hombre hombre hombre hombre hombre\n",
       "[21] mujer  mujer  mujer  mujer  mujer  mujer  mujer  mujer  mujer  mujer \n",
       "[31] mujer  mujer  mujer  mujer  mujer  mujer  mujer  mujer  mujer  mujer \n",
       "[41] mujer  mujer  mujer  mujer  mujer  mujer  mujer  mujer  mujer  mujer \n",
       "Levels: hombre mujer"
      ]
     },
     "metadata": {},
     "output_type": "display_data"
    }
   ],
   "source": [
    "gen.factor <- factor(gen)\n",
    "\n",
    "gen.factor"
   ]
  },
  {
   "cell_type": "code",
   "execution_count": 15,
   "metadata": {},
   "outputs": [
    {
     "data": {
      "text/plain": [
       "   Length     Class      Mode \n",
       "       50 character character "
      ]
     },
     "metadata": {},
     "output_type": "display_data"
    }
   ],
   "source": [
    "summary(gen)"
   ]
  },
  {
   "cell_type": "code",
   "execution_count": 16,
   "metadata": {},
   "outputs": [
    {
     "data": {
      "text/html": [
       "<dl class=dl-horizontal>\n",
       "\t<dt>hombre</dt>\n",
       "\t\t<dd>20</dd>\n",
       "\t<dt>mujer</dt>\n",
       "\t\t<dd>30</dd>\n",
       "</dl>\n"
      ],
      "text/latex": [
       "\\begin{description*}\n",
       "\\item[hombre] 20\n",
       "\\item[mujer] 30\n",
       "\\end{description*}\n"
      ],
      "text/markdown": [
       "hombre\n",
       ":   20mujer\n",
       ":   30\n",
       "\n"
      ],
      "text/plain": [
       "hombre  mujer \n",
       "    20     30 "
      ]
     },
     "metadata": {},
     "output_type": "display_data"
    }
   ],
   "source": [
    "summary(gen.factor)"
   ]
  },
  {
   "cell_type": "markdown",
   "metadata": {
    "collapsed": true
   },
   "source": [
    "# Empezando R"
   ]
  },
  {
   "cell_type": "markdown",
   "metadata": {},
   "source": [
    "Una de las mayores ventajas de R es su capacidad para manejar datos a gran escala y su facilidad para crear gráficas a partir de ellos. Pero esto viene a un costo para el usuario, haciendolo complejo de aprender por su manera de hacer las cosas en base a comandos  (ya que es un lenguaje de programación basado en C/C++) y al manejo de las diferentes partes en archivos o scripts.\n",
    "\n",
    "Para ev"
   ]
  }
 ],
 "metadata": {
  "kernelspec": {
   "display_name": "R",
   "language": "R",
   "name": "ir"
  },
  "language_info": {
   "codemirror_mode": "r",
   "file_extension": ".r",
   "mimetype": "text/x-r-source",
   "name": "R",
   "pygments_lexer": "r",
   "version": "3.4.2"
  }
 },
 "nbformat": 4,
 "nbformat_minor": 2
}
